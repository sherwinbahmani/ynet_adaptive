{
 "cells": [
  {
   "cell_type": "code",
   "execution_count": 7,
   "metadata": {},
   "outputs": [
    {
     "name": "stdout",
     "output_type": "stream",
     "text": [
      "Experiment 2022_01_29_02_36_25 has started\n"
     ]
    }
   ],
   "source": [
    "import pandas as pd\n",
    "import yaml\n",
    "from model import YNet\n",
    "from datetime import datetime\n",
    "from utils.preprocessing import load_raw_dataset\n",
    "import time\n",
    "\n",
    "tic = time.time()\n",
    "\n",
    "FOLDERNAME = './'\n",
    "time_stamp = datetime.now().strftime('%Y_%m_%d_%H_%M_%S')\n",
    "CHECKPOINT = None # FOLDERNAME + 'pretrained_models/2022_01_27_23_58_00_weights.pt' # None means no checkpoint will be used to fine-tune\n",
    "CONFIG_FILE_PATH = 'config/sdd_raw_train.yaml'  # yaml config file containing all the hyperparameters\n",
    "EXPERIMENT_NAME = time_stamp  # arbitrary name for this experiment\n",
    "DATASET_NAME = 'sdd'\n",
    "SDD_RAW_PATH = FOLDERNAME + \"data/sdd_raw\"\n",
    "with open(CONFIG_FILE_PATH) as file:\n",
    "    params = yaml.load(file, Loader=yaml.FullLoader)\n",
    "print(f\"Experiment {EXPERIMENT_NAME} has started\")\n",
    "\n",
    "if params['use_raw_data']:\n",
    "    TRAIN_IMAGE_PATH = FOLDERNAME + 'data/sdd_raw/annotations'\n",
    "    TEST_IMAGE_PATH = FOLDERNAME + 'data/sdd_raw/annotations'\n",
    "else:\n",
    "    TEST_DATA_PATH = FOLDERNAME + 'data/SDD/test_trajnet.pkl'\n",
    "    TEST_IMAGE_PATH = FOLDERNAME + 'data/SDD/test'  # only needed for YNet, PECNet ignores this value\n",
    "params['segmentation_model_fp'] = FOLDERNAME + 'ynet_additional_files/segmentation_models/SDD_segmentation.pth'\n",
    "OBS_LEN = 8  # in timesteps\n",
    "PRED_LEN = 12  # in timesteps\n",
    "NUM_GOALS = 20  # K_e\n",
    "NUM_TRAJ = 1  # K_a\n",
    "ROUNDS = 1  # Y-net is stochastic. How often to evaluate the whole dataset\n",
    "BATCH_SIZE = 8\n",
    "\n",
    "\n"
   ]
  },
  {
   "cell_type": "code",
   "execution_count": 8,
   "metadata": {},
   "outputs": [
    {
     "name": "stdout",
     "output_type": "stream",
     "text": [
      "2662 agents for each training class, 501 agents for test class\n"
     ]
    }
   ],
   "source": [
    "\n",
    "if params['use_raw_data']:\n",
    "    train_data, val_data = load_raw_dataset(path=SDD_RAW_PATH, step=params['step'],\n",
    "                                  window_size=params['min_num_steps_seq'], stride=params['filter_stride'],\n",
    "                                  train_labels=params['train_labels'], test_labels=params['test_labels'],\n",
    "                                  test_per=params['test_per'], max_train_agents=params['max_train_agents'],\n",
    "                                  train_set_ratio=params['train_set_ratio'], test_on_train=params['test_on_train'],\n",
    "                                  num_train_agents=params['num_train_agents'], num_test_agents=params['num_test_agents'],\n",
    "                                  random_train_test=params['random_train_test_split'])\n",
    "else:\n",
    "\ttrain_data = pd.read_pickle(TRAIN_IMAGE_PATH)\n",
    "\tval_data = pd.read_pickle(TEST_DATA_PATH)"
   ]
  },
  {
   "cell_type": "code",
   "execution_count": 9,
   "metadata": {},
   "outputs": [
    {
     "name": "stdout",
     "output_type": "stream",
     "text": [
      "The autoreload extension is already loaded. To reload it, use:\n",
      "  %reload_ext autoreload\n"
     ]
    }
   ],
   "source": [
    "%load_ext autoreload\n",
    "%autoreload 2"
   ]
  },
  {
   "cell_type": "code",
   "execution_count": 33,
   "metadata": {},
   "outputs": [
    {
     "name": "stdout",
     "output_type": "stream",
     "text": [
      "Preprocess data\n"
     ]
    },
    {
     "name": "stderr",
     "output_type": "stream",
     "text": [
      "Prepare Dataset: 100%|██████████| 424/424 [00:00<00:00, 1473.07it/s]\n",
      "Prepare Dataset: 100%|██████████| 184/184 [00:00<00:00, 1348.22it/s]\n",
      "Prepare Dataset: 100%|██████████| 472/472 [00:00<00:00, 1453.38it/s]\n",
      "Prepare Dataset: 100%|██████████| 15/15 [00:00<00:00, 1401.06it/s]\n",
      "Prepare Dataset: 100%|██████████| 16/16 [00:00<00:00, 1420.32it/s]\n",
      "Prepare Dataset: 100%|██████████| 7/7 [00:00<00:00, 1227.43it/s]\n"
     ]
    },
    {
     "name": "stdout",
     "output_type": "stream",
     "text": [
      "Start training\n"
     ]
    },
    {
     "name": "stderr",
     "output_type": "stream",
     "text": [
      " 35%|███▌      | 150/424 [00:18<00:34,  8.03it/s]\n",
      " 12%|█▎        | 2/16 [00:00<00:01, 13.27it/s]"
     ]
    },
    {
     "name": "stdout",
     "output_type": "stream",
     "text": [
      "Epoch 0: \tTrain style accuracy: 0.32367663612231234 \t(loss: 3.7747411727905273) \n"
     ]
    },
    {
     "name": "stderr",
     "output_type": "stream",
     "text": [
      "100%|██████████| 16/16 [00:00<00:00, 17.83it/s]\n"
     ]
    },
    {
     "name": "stdout",
     "output_type": "stream",
     "text": [
      "Epoch 0: \tValid style accuracy: 0.39460182172862207\n",
      "Best Epoch 0: \n",
      "Val Accuracy: 0.39460182172862207\n"
     ]
    },
    {
     "name": "stderr",
     "output_type": "stream",
     "text": [
      " 35%|███▌      | 150/424 [00:18<00:34,  7.97it/s]\n",
      " 12%|█▎        | 2/16 [00:00<00:00, 16.78it/s]"
     ]
    },
    {
     "name": "stdout",
     "output_type": "stream",
     "text": [
      "Epoch 1: \tTrain style accuracy: 0.31889612584302 \t(loss: 3.62009596824646) \n"
     ]
    },
    {
     "name": "stderr",
     "output_type": "stream",
     "text": [
      "100%|██████████| 16/16 [00:00<00:00, 19.50it/s]\n",
      "  0%|          | 1/424 [00:00<01:18,  5.41it/s]"
     ]
    },
    {
     "name": "stdout",
     "output_type": "stream",
     "text": [
      "Epoch 1: \tValid style accuracy: 0.1553002063025689\n"
     ]
    },
    {
     "name": "stderr",
     "output_type": "stream",
     "text": [
      " 35%|███▌      | 150/424 [00:20<00:37,  7.24it/s]\n",
      " 12%|█▎        | 2/16 [00:00<00:00, 16.85it/s]"
     ]
    },
    {
     "name": "stdout",
     "output_type": "stream",
     "text": [
      "Epoch 2: \tTrain style accuracy: 0.3498815708998197 \t(loss: 3.525845527648926) \n"
     ]
    },
    {
     "name": "stderr",
     "output_type": "stream",
     "text": [
      "100%|██████████| 16/16 [00:00<00:00, 19.06it/s]\n",
      "  0%|          | 2/424 [00:00<00:33, 12.69it/s]"
     ]
    },
    {
     "name": "stdout",
     "output_type": "stream",
     "text": [
      "Epoch 2: \tValid style accuracy: 0.39460182172862207\n"
     ]
    },
    {
     "name": "stderr",
     "output_type": "stream",
     "text": [
      " 35%|███▌      | 150/424 [00:16<00:30,  8.90it/s]\n",
      " 12%|█▎        | 2/16 [00:00<00:00, 16.83it/s]"
     ]
    },
    {
     "name": "stdout",
     "output_type": "stream",
     "text": [
      "Epoch 3: \tTrain style accuracy: 0.36249534909257913 \t(loss: 3.630995988845825) \n"
     ]
    },
    {
     "name": "stderr",
     "output_type": "stream",
     "text": [
      "100%|██████████| 16/16 [00:00<00:00, 19.10it/s]\n",
      "  0%|          | 1/424 [00:00<00:59,  7.15it/s]"
     ]
    },
    {
     "name": "stdout",
     "output_type": "stream",
     "text": [
      "Epoch 3: \tValid style accuracy: 0.1553002063025689\n"
     ]
    },
    {
     "name": "stderr",
     "output_type": "stream",
     "text": [
      " 35%|███▌      | 150/424 [00:18<00:34,  7.92it/s]\n",
      " 12%|█▎        | 2/16 [00:00<00:00, 16.72it/s]"
     ]
    },
    {
     "name": "stdout",
     "output_type": "stream",
     "text": [
      "Epoch 4: \tTrain style accuracy: 0.35809290226226287 \t(loss: 3.5999529361724854) \n"
     ]
    },
    {
     "name": "stderr",
     "output_type": "stream",
     "text": [
      "100%|██████████| 16/16 [00:00<00:00, 19.21it/s]\n",
      "  0%|          | 1/424 [00:00<00:56,  7.50it/s]"
     ]
    },
    {
     "name": "stdout",
     "output_type": "stream",
     "text": [
      "Epoch 4: \tValid style accuracy: 0.1553002063025689\n"
     ]
    },
    {
     "name": "stderr",
     "output_type": "stream",
     "text": [
      " 35%|███▌      | 150/424 [00:18<00:33,  8.06it/s]\n",
      " 12%|█▎        | 2/16 [00:00<00:00, 15.42it/s]"
     ]
    },
    {
     "name": "stdout",
     "output_type": "stream",
     "text": [
      "Epoch 5: \tTrain style accuracy: 0.35510884782571794 \t(loss: 3.523750066757202) \n"
     ]
    },
    {
     "name": "stderr",
     "output_type": "stream",
     "text": [
      "100%|██████████| 16/16 [00:00<00:00, 18.78it/s]\n",
      "  0%|          | 0/424 [00:00<?, ?it/s]"
     ]
    },
    {
     "name": "stdout",
     "output_type": "stream",
     "text": [
      "Epoch 5: \tValid style accuracy: 0.1553002063025689\n"
     ]
    },
    {
     "name": "stderr",
     "output_type": "stream",
     "text": [
      " 35%|███▌      | 150/424 [00:19<00:35,  7.73it/s]\n",
      " 12%|█▎        | 2/16 [00:00<00:00, 16.68it/s]"
     ]
    },
    {
     "name": "stdout",
     "output_type": "stream",
     "text": [
      "Epoch 6: \tTrain style accuracy: 0.3538574943113927 \t(loss: 3.447648286819458) \n"
     ]
    },
    {
     "name": "stderr",
     "output_type": "stream",
     "text": [
      "100%|██████████| 16/16 [00:00<00:00, 18.68it/s]\n",
      "  0%|          | 1/424 [00:00<00:58,  7.21it/s]"
     ]
    },
    {
     "name": "stdout",
     "output_type": "stream",
     "text": [
      "Epoch 6: \tValid style accuracy: 0.2297910993841666\n"
     ]
    },
    {
     "name": "stderr",
     "output_type": "stream",
     "text": [
      " 35%|███▌      | 150/424 [00:19<00:34,  7.85it/s]\n",
      " 12%|█▎        | 2/16 [00:00<00:00, 16.73it/s]"
     ]
    },
    {
     "name": "stdout",
     "output_type": "stream",
     "text": [
      "Epoch 7: \tTrain style accuracy: 0.36363668881399624 \t(loss: 3.5462779998779297) \n"
     ]
    },
    {
     "name": "stderr",
     "output_type": "stream",
     "text": [
      "100%|██████████| 16/16 [00:00<00:00, 18.38it/s]\n",
      "  0%|          | 0/424 [00:00<?, ?it/s]"
     ]
    },
    {
     "name": "stdout",
     "output_type": "stream",
     "text": [
      "Epoch 7: \tValid style accuracy: 0.1553002063025689\n"
     ]
    },
    {
     "name": "stderr",
     "output_type": "stream",
     "text": [
      " 35%|███▌      | 150/424 [00:19<00:35,  7.65it/s]\n",
      " 12%|█▎        | 2/16 [00:00<00:00, 16.33it/s]"
     ]
    },
    {
     "name": "stdout",
     "output_type": "stream",
     "text": [
      "Epoch 8: \tTrain style accuracy: 0.3458556109085056 \t(loss: 3.5400471687316895) \n"
     ]
    },
    {
     "name": "stderr",
     "output_type": "stream",
     "text": [
      "100%|██████████| 16/16 [00:00<00:00, 18.65it/s]\n",
      "  0%|          | 1/424 [00:00<01:01,  6.85it/s]"
     ]
    },
    {
     "name": "stdout",
     "output_type": "stream",
     "text": [
      "Epoch 8: \tValid style accuracy: 0.31145724682992426\n"
     ]
    },
    {
     "name": "stderr",
     "output_type": "stream",
     "text": [
      " 35%|███▌      | 150/424 [00:18<00:34,  7.97it/s]\n",
      " 12%|█▎        | 2/16 [00:00<00:00, 16.81it/s]"
     ]
    },
    {
     "name": "stdout",
     "output_type": "stream",
     "text": [
      "Epoch 9: \tTrain style accuracy: 0.37127887945261406 \t(loss: 3.478595018386841) \n"
     ]
    },
    {
     "name": "stderr",
     "output_type": "stream",
     "text": [
      "100%|██████████| 16/16 [00:00<00:00, 18.24it/s]\n",
      "  0%|          | 2/424 [00:00<00:33, 12.57it/s]"
     ]
    },
    {
     "name": "stdout",
     "output_type": "stream",
     "text": [
      "Epoch 9: \tValid style accuracy: 0.2297910993841666\n"
     ]
    },
    {
     "name": "stderr",
     "output_type": "stream",
     "text": [
      " 35%|███▌      | 150/424 [00:18<00:34,  7.93it/s]\n",
      " 12%|█▎        | 2/16 [00:00<00:00, 16.74it/s]"
     ]
    },
    {
     "name": "stdout",
     "output_type": "stream",
     "text": [
      "Epoch 10: \tTrain style accuracy: 0.35518006986805717 \t(loss: 3.6003777980804443) \n"
     ]
    },
    {
     "name": "stderr",
     "output_type": "stream",
     "text": [
      "100%|██████████| 16/16 [00:00<00:00, 18.86it/s]\n"
     ]
    },
    {
     "name": "stdout",
     "output_type": "stream",
     "text": [
      "Epoch 10: \tValid style accuracy: 0.4265329540207581\n",
      "Best Epoch 10: \n",
      "Val Accuracy: 0.4265329540207581\n"
     ]
    },
    {
     "name": "stderr",
     "output_type": "stream",
     "text": [
      " 35%|███▌      | 150/424 [00:17<00:32,  8.38it/s]\n",
      " 12%|█▎        | 2/16 [00:00<00:00, 16.48it/s]"
     ]
    },
    {
     "name": "stdout",
     "output_type": "stream",
     "text": [
      "Epoch 11: \tTrain style accuracy: 0.37808947520694136 \t(loss: 3.5195624828338623) \n"
     ]
    },
    {
     "name": "stderr",
     "output_type": "stream",
     "text": [
      "100%|██████████| 16/16 [00:00<00:00, 19.48it/s]\n",
      "  0%|          | 0/424 [00:00<?, ?it/s]"
     ]
    },
    {
     "name": "stdout",
     "output_type": "stream",
     "text": [
      "Epoch 11: \tValid style accuracy: 0.4265329540207581\n"
     ]
    },
    {
     "name": "stderr",
     "output_type": "stream",
     "text": [
      " 35%|███▌      | 150/424 [00:18<00:33,  8.22it/s]\n",
      " 12%|█▎        | 2/16 [00:00<00:00, 17.00it/s]"
     ]
    },
    {
     "name": "stdout",
     "output_type": "stream",
     "text": [
      "Epoch 12: \tTrain style accuracy: 0.3691340563378595 \t(loss: 3.544086456298828) \n"
     ]
    },
    {
     "name": "stderr",
     "output_type": "stream",
     "text": [
      "100%|██████████| 16/16 [00:00<00:00, 19.11it/s]\n",
      "  0%|          | 2/424 [00:00<00:32, 13.00it/s]"
     ]
    },
    {
     "name": "stdout",
     "output_type": "stream",
     "text": [
      "Epoch 12: \tValid style accuracy: 0.4265329540207581\n"
     ]
    },
    {
     "name": "stderr",
     "output_type": "stream",
     "text": [
      " 35%|███▌      | 150/424 [00:18<00:33,  8.12it/s]\n",
      " 12%|█▎        | 2/16 [00:00<00:00, 16.74it/s]"
     ]
    },
    {
     "name": "stdout",
     "output_type": "stream",
     "text": [
      "Epoch 13: \tTrain style accuracy: 0.33908419022449093 \t(loss: 3.5467984676361084) \n"
     ]
    },
    {
     "name": "stderr",
     "output_type": "stream",
     "text": [
      "100%|██████████| 16/16 [00:00<00:00, 19.51it/s]\n"
     ]
    },
    {
     "name": "stdout",
     "output_type": "stream",
     "text": [
      "Epoch 13: \tValid style accuracy: 0.4631055768002774\n",
      "Best Epoch 13: \n",
      "Val Accuracy: 0.4631055768002774\n"
     ]
    },
    {
     "name": "stderr",
     "output_type": "stream",
     "text": [
      " 35%|███▌      | 150/424 [00:19<00:35,  7.64it/s]\n",
      " 12%|█▎        | 2/16 [00:00<00:00, 16.51it/s]"
     ]
    },
    {
     "name": "stdout",
     "output_type": "stream",
     "text": [
      "Epoch 14: \tTrain style accuracy: 0.36972127550095285 \t(loss: 3.499068021774292) \n"
     ]
    },
    {
     "name": "stderr",
     "output_type": "stream",
     "text": [
      "100%|██████████| 16/16 [00:00<00:00, 18.96it/s]\n",
      "  0%|          | 2/424 [00:00<00:30, 14.05it/s]"
     ]
    },
    {
     "name": "stdout",
     "output_type": "stream",
     "text": [
      "Epoch 14: \tValid style accuracy: 0.4265329540207581\n"
     ]
    },
    {
     "name": "stderr",
     "output_type": "stream",
     "text": [
      " 35%|███▌      | 150/424 [00:19<00:36,  7.55it/s]\n",
      " 12%|█▎        | 2/16 [00:00<00:00, 16.60it/s]"
     ]
    },
    {
     "name": "stdout",
     "output_type": "stream",
     "text": [
      "Epoch 15: \tTrain style accuracy: 0.3899817596553288 \t(loss: 3.665250301361084) \n"
     ]
    },
    {
     "name": "stderr",
     "output_type": "stream",
     "text": [
      "100%|██████████| 16/16 [00:00<00:00, 19.47it/s]\n",
      "  0%|          | 2/424 [00:00<00:31, 13.52it/s]"
     ]
    },
    {
     "name": "stdout",
     "output_type": "stream",
     "text": [
      "Epoch 15: \tValid style accuracy: 0.36278501080233333\n"
     ]
    },
    {
     "name": "stderr",
     "output_type": "stream",
     "text": [
      " 35%|███▌      | 150/424 [00:17<00:31,  8.60it/s]\n",
      " 12%|█▎        | 2/16 [00:00<00:00, 16.60it/s]"
     ]
    },
    {
     "name": "stdout",
     "output_type": "stream",
     "text": [
      "Epoch 16: \tTrain style accuracy: 0.33866659310771696 \t(loss: 3.6078133583068848) \n"
     ]
    },
    {
     "name": "stderr",
     "output_type": "stream",
     "text": [
      "100%|██████████| 16/16 [00:00<00:00, 19.49it/s]\n",
      "  0%|          | 2/424 [00:00<00:32, 12.90it/s]"
     ]
    },
    {
     "name": "stdout",
     "output_type": "stream",
     "text": [
      "Epoch 16: \tValid style accuracy: 0.4567664291840516\n"
     ]
    },
    {
     "name": "stderr",
     "output_type": "stream",
     "text": [
      " 24%|██▍       | 101/424 [00:12<00:41,  7.78it/s]\n"
     ]
    },
    {
     "ename": "KeyboardInterrupt",
     "evalue": "",
     "output_type": "error",
     "traceback": [
      "\u001b[0;31m---------------------------------------------------------------------------\u001b[0m",
      "\u001b[0;31mKeyboardInterrupt\u001b[0m                         Traceback (most recent call last)",
      "\u001b[1;32m/home/jonas/vita_epfl_causal/ynet/notebook.ipynb Cell 4'\u001b[0m in \u001b[0;36m<module>\u001b[0;34m\u001b[0m\n\u001b[1;32m      <a href='vscode-notebook-cell://ssh-remote%2Bvita/home/jonas/vita_epfl_causal/ynet/notebook.ipynb#ch0000003vscode-remote?line=1'>2</a>\u001b[0m \u001b[39m# print(sum(p.numel() for p in model.model.style_hat.parameters() if p.requires_grad))\u001b[39;00m\n\u001b[1;32m      <a href='vscode-notebook-cell://ssh-remote%2Bvita/home/jonas/vita_epfl_causal/ynet/notebook.ipynb#ch0000003vscode-remote?line=2'>3</a>\u001b[0m \u001b[39mif\u001b[39;00m CHECKPOINT: model\u001b[39m.\u001b[39mload(CHECKPOINT)\n\u001b[0;32m----> <a href='vscode-notebook-cell://ssh-remote%2Bvita/home/jonas/vita_epfl_causal/ynet/notebook.ipynb#ch0000003vscode-remote?line=3'>4</a>\u001b[0m model\u001b[39m.\u001b[39;49mtrain_style_enc(train_data, val_data, params, train_image_path\u001b[39m=\u001b[39;49mTRAIN_IMAGE_PATH, val_image_path\u001b[39m=\u001b[39;49mTEST_IMAGE_PATH,\n\u001b[1;32m      <a href='vscode-notebook-cell://ssh-remote%2Bvita/home/jonas/vita_epfl_causal/ynet/notebook.ipynb#ch0000003vscode-remote?line=4'>5</a>\u001b[0m \t\t\t\texperiment_name\u001b[39m=\u001b[39;49mEXPERIMENT_NAME, batch_size\u001b[39m=\u001b[39;49mBATCH_SIZE, num_goals\u001b[39m=\u001b[39;49mNUM_GOALS, num_traj\u001b[39m=\u001b[39;49mNUM_TRAJ, \n\u001b[1;32m      <a href='vscode-notebook-cell://ssh-remote%2Bvita/home/jonas/vita_epfl_causal/ynet/notebook.ipynb#ch0000003vscode-remote?line=5'>6</a>\u001b[0m \t\t\t\tdevice\u001b[39m=\u001b[39;49m\u001b[39mNone\u001b[39;49;00m, dataset_name\u001b[39m=\u001b[39;49mDATASET_NAME, use_raw_data\u001b[39m=\u001b[39;49mparams[\u001b[39m'\u001b[39;49m\u001b[39muse_raw_data\u001b[39;49m\u001b[39m'\u001b[39;49m])\n\u001b[1;32m      <a href='vscode-notebook-cell://ssh-remote%2Bvita/home/jonas/vita_epfl_causal/ynet/notebook.ipynb#ch0000003vscode-remote?line=7'>8</a>\u001b[0m toc \u001b[39m=\u001b[39m time\u001b[39m.\u001b[39mtime()\n\u001b[1;32m      <a href='vscode-notebook-cell://ssh-remote%2Bvita/home/jonas/vita_epfl_causal/ynet/notebook.ipynb#ch0000003vscode-remote?line=8'>9</a>\u001b[0m \u001b[39mprint\u001b[39m(time\u001b[39m.\u001b[39mstrftime(\u001b[39m\"\u001b[39m\u001b[39m%\u001b[39m\u001b[39mHh\u001b[39m\u001b[39m%\u001b[39m\u001b[39mMm\u001b[39m\u001b[39m%\u001b[39m\u001b[39mSs\u001b[39m\u001b[39m\"\u001b[39m, time\u001b[39m.\u001b[39mgmtime(toc \u001b[39m-\u001b[39m tic)))\n",
      "File \u001b[0;32m~/vita_epfl_causal/ynet/model.py:672\u001b[0m, in \u001b[0;36mYNet.train_style_enc\u001b[0;34m(self, train_data, val_data, params, train_image_path, val_image_path, experiment_name, batch_size, num_goals, num_traj, device, dataset_name, use_raw_data)\u001b[0m\n\u001b[1;32m    <a href='file:///~/vita_epfl_causal/ynet/model.py?line=669'>670</a>\u001b[0m \u001b[39mprint\u001b[39m(\u001b[39m'\u001b[39m\u001b[39mStart training\u001b[39m\u001b[39m'\u001b[39m, flush\u001b[39m=\u001b[39m\u001b[39mTrue\u001b[39;00m)\n\u001b[1;32m    <a href='file:///~/vita_epfl_causal/ynet/model.py?line=670'>671</a>\u001b[0m \u001b[39mfor\u001b[39;00m e \u001b[39min\u001b[39;00m \u001b[39mrange\u001b[39m(params[\u001b[39m'\u001b[39m\u001b[39mnum_epochs\u001b[39m\u001b[39m'\u001b[39m]):\n\u001b[0;32m--> <a href='file:///~/vita_epfl_causal/ynet/model.py?line=671'>672</a>\u001b[0m \ttrain_loss, train_accuracy \u001b[39m=\u001b[39m train_style_enc(model, train_loaders, train_images, e, obs_len, pred_len,\n\u001b[1;32m    <a href='file:///~/vita_epfl_causal/ynet/model.py?line=672'>673</a>\u001b[0m \t\t\t\t\t\t\t\t\t\t\t batch_size, params, gt_template, device,\n\u001b[1;32m    <a href='file:///~/vita_epfl_causal/ynet/model.py?line=673'>674</a>\u001b[0m \t\t\t\t\t\t\t\t\t\t\t input_template, optimizer, criterion, dataset_name, \u001b[39mself\u001b[39;49m\u001b[39m.\u001b[39;49mhomo_mat)\n\u001b[1;32m    <a href='file:///~/vita_epfl_causal/ynet/model.py?line=675'>676</a>\u001b[0m \t\u001b[39mprint\u001b[39m(\u001b[39mf\u001b[39m\u001b[39m'\u001b[39m\u001b[39mEpoch \u001b[39m\u001b[39m{\u001b[39;00me\u001b[39m}\u001b[39;00m\u001b[39m: \u001b[39m\u001b[39m\\t\u001b[39;00m\u001b[39mTrain style accuracy: \u001b[39m\u001b[39m{\u001b[39;00mtrain_accuracy\u001b[39m}\u001b[39;00m\u001b[39m \u001b[39m\u001b[39m\\t\u001b[39;00m\u001b[39m(loss: \u001b[39m\u001b[39m{\u001b[39;00mtrain_loss\u001b[39m}\u001b[39;00m\u001b[39m) \u001b[39m\u001b[39m'\u001b[39m)\n\u001b[1;32m    <a href='file:///~/vita_epfl_causal/ynet/model.py?line=677'>678</a>\u001b[0m \t_, test_accuracy \u001b[39m=\u001b[39m evaluate_style(model, val_loaders, val_images, e, obs_len, pred_len,\n\u001b[1;32m    <a href='file:///~/vita_epfl_causal/ynet/model.py?line=678'>679</a>\u001b[0m \t\t\t\t\t\t\t\t\t\t\t batch_size, params, gt_template, device,\n\u001b[1;32m    <a href='file:///~/vita_epfl_causal/ynet/model.py?line=679'>680</a>\u001b[0m \t\t\t\t\t\t\t\t\t\t\t input_template, optimizer, criterion, dataset_name, \u001b[39mself\u001b[39m\u001b[39m.\u001b[39mhomo_mat)\n",
      "File \u001b[0;32m~/vita_epfl_causal/ynet/train.py:235\u001b[0m, in \u001b[0;36mtrain_style_enc\u001b[0;34m(model, train_loaders, train_images, e, obs_len, pred_len, batch_size, params, gt_template, device, input_template, optimizer, criterion, dataset_name, homo_mat, style_only)\u001b[0m\n\u001b[1;32m    <a href='file:///~/vita_epfl_causal/ynet/train.py?line=231'>232</a>\u001b[0m \u001b[39m# fix size issue\u001b[39;00m\n\u001b[1;32m    <a href='file:///~/vita_epfl_causal/ynet/train.py?line=232'>233</a>\u001b[0m \u001b[39mfor\u001b[39;00m i \u001b[39min\u001b[39;00m \u001b[39mrange\u001b[39m(\u001b[39mlen\u001b[39m(low_dim_style_list)):\n\u001b[1;32m    <a href='file:///~/vita_epfl_causal/ynet/train.py?line=233'>234</a>\u001b[0m \t\u001b[39m# print(low_dim_style_list[i].shape, torch.tensor(duplicate_size(low_dim_style_list[i])))\u001b[39;00m\n\u001b[0;32m--> <a href='file:///~/vita_epfl_causal/ynet/train.py?line=234'>235</a>\u001b[0m \tlow_dim_style_list[i] \u001b[39m=\u001b[39mtorch\u001b[39m.\u001b[39mrepeat_interleave(low_dim_style_list[i], torch\u001b[39m.\u001b[39;49mtensor(duplicate_size(low_dim_style_list[i]))\u001b[39m.\u001b[39;49mto(device), dim\u001b[39m=\u001b[39m\u001b[39m0\u001b[39m)\n\u001b[1;32m    <a href='file:///~/vita_epfl_causal/ynet/train.py?line=236'>237</a>\u001b[0m \u001b[39m# Contrastive loss\u001b[39;00m\n\u001b[1;32m    <a href='file:///~/vita_epfl_causal/ynet/train.py?line=237'>238</a>\u001b[0m input_features \u001b[39m=\u001b[39m torch\u001b[39m.\u001b[39mstack(low_dim_style_list)\n",
      "\u001b[0;31mKeyboardInterrupt\u001b[0m: "
     ]
    }
   ],
   "source": [
    "model = YNet(obs_len=OBS_LEN, pred_len=PRED_LEN, params=params)\n",
    "# print(sum(p.numel() for p in model.model.style_hat.parameters() if p.requires_grad))\n",
    "if CHECKPOINT: model.load(CHECKPOINT)\n",
    "model.train_style_enc(train_data, val_data, params, train_image_path=TRAIN_IMAGE_PATH, val_image_path=TEST_IMAGE_PATH,\n",
    "\t\t\t\texperiment_name=EXPERIMENT_NAME, batch_size=BATCH_SIZE, num_goals=NUM_GOALS, num_traj=NUM_TRAJ, \n",
    "\t\t\t\tdevice=None, dataset_name=DATASET_NAME, use_raw_data=params['use_raw_data'])\n",
    "\n",
    "toc = time.time()\n",
    "print(time.strftime(\"%Hh%Mm%Ss\", time.gmtime(toc - tic)))"
   ]
  },
  {
   "cell_type": "code",
   "execution_count": null,
   "metadata": {},
   "outputs": [],
   "source": []
  },
  {
   "cell_type": "code",
   "execution_count": null,
   "metadata": {},
   "outputs": [],
   "source": []
  }
 ],
 "metadata": {
  "interpreter": {
   "hash": "470c3a1d38d3b28f01b81a0263a6341bcba31d315455af62dbe054a0b795934c"
  },
  "kernelspec": {
   "display_name": "Python 3.7.1 64-bit (conda)",
   "language": "python",
   "name": "python3"
  },
  "language_info": {
   "codemirror_mode": {
    "name": "ipython",
    "version": 3
   },
   "file_extension": ".py",
   "mimetype": "text/x-python",
   "name": "python",
   "nbconvert_exporter": "python",
   "pygments_lexer": "ipython3",
   "version": "3.8.12"
  },
  "orig_nbformat": 4
 },
 "nbformat": 4,
 "nbformat_minor": 2
}
